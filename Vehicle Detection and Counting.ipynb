{
 "cells": [
  {
   "cell_type": "code",
   "execution_count": 1,
   "id": "e8d8b316",
   "metadata": {},
   "outputs": [],
   "source": [
    "import cv2\n",
    "import numpy as np\n",
    " "
   ]
  },
  {
   "cell_type": "code",
   "execution_count": 2,
   "id": "bbd2a749",
   "metadata": {},
   "outputs": [],
   "source": [
    "largeur_min_contour = 40  \n",
    "longeur_min_contour = 40  \n",
    "offset = 10  \n",
    "ligne_hauteur = 550  \n",
    "matches = []\n",
    "vehicles = 0\n",
    "#les conditin poses"
   ]
  },
  {
   "cell_type": "code",
   "execution_count": 3,
   "id": "317c4ead",
   "metadata": {},
   "outputs": [],
   "source": [
    "def get_centrolid(x, y, w, h):\n",
    "   x1 = int(w / 2)\n",
    "   #on divise la largeur sur 2\n",
    "   y1 = int(h / 2)\n",
    "   #on divise la hauteur sur 2\n",
    "   cx = x + x1\n",
    "   cy = y + y1\n",
    "   return cx, cy\n",
    "#La fonction calcule le point qui se trouve au centre du rectangle"
   ]
  },
  {
   "cell_type": "code",
   "execution_count": 8,
   "id": "fdc969f8",
   "metadata": {},
   "outputs": [],
   "source": [
    "cap = cv2.VideoCapture('Video.mp4')\n",
    "#ici on lit la video"
   ]
  },
  {
   "cell_type": "code",
   "execution_count": 9,
   "id": "48e7d031",
   "metadata": {},
   "outputs": [],
   "source": [
    "cap.set(3, 1920)\n",
    "cap.set(4, 1080)\n",
    "#definir la resolution de la video\n",
    " \n",
    "if cap.isOpened():\n",
    "   #Cette condition verifie si la capture vidéo est ouverte avec succes\n",
    "   ret, frame1 = cap.read()\n",
    "   #Si la capture video est ouverte cette ligne lit la première image de la vidéo et la stocke dans la variable frame1.\n",
    "   #ret c'est un booelan qui indiquant si la lecture de l'image s'est bien passée\n",
    "else:\n",
    "   ret = False\n",
    "ret, frame1 = cap.read()\n",
    "ret, frame2 = cap.read()\n",
    "# on lits deux images supplementaires de la vidéo et on les stocks dans les variables frame1 et frame2 meme si la captre video n'est pas ouverte"
   ]
  },
  {
   "cell_type": "code",
   "execution_count": 10,
   "id": "78b16fec",
   "metadata": {},
   "outputs": [],
   "source": [
    "while ret:\n",
    "   d = cv2.absdiff(frame1, frame2)\n",
    "   #cette fonction calcule la difference entre les 2 frame en valeur absolue\n",
    "   #cette fonction donne des pixels eleve indiquent des changements significatifs, tandis que des valeurs faibles  indiquent peu ou pas de changement.\n",
    "   \n",
    "   gris = cv2.cvtColor(d, cv2.COLOR_BGR2GRAY)\n",
    "   #convertit l'image d en niveaux de gris \n",
    "    \n",
    "   blur = cv2.GaussianBlur(gris, (5, 5), 0)\n",
    "   #appliquer le filtre gaussian pour elimine le bruit et  il peut rendre les contours plus  facile a detecter il amelior la visibiliter des contours\n",
    "   #un noyau de dimension (5, 5) est utilisé\n",
    "   \n",
    "   ret, th = cv2.threshold(blur, 20, 255, cv2.THRESH_BINARY)\n",
    "   #la fonction effectue une binarisation de l'image floutee tel que les valeur moin de 20 soit 0 et 255 est la valeur max des pixels\n",
    "   \n",
    "   dilated = cv2.dilate(th, np.ones((3, 3)))\n",
    "   # utilisation de la fonction est pour appliquer une opération de dilatation à l'image binaire pour connecter les régions blanches disjointes dans une image binaire\n",
    "   #améliorer la continuite des regions et simplifier le processus de détection des contours\n",
    "   \n",
    "   kernel = cv2.getStructuringElement(cv2.MORPH_ELLIPSE, (2, 2))\n",
    "   #creer element structurant qui sera utilise dans des opérations de traitement d'image\n",
    "   \n",
    "   fermiture = cv2.morphologyEx(dilated, cv2.MORPH_CLOSE, kernel)\n",
    "   #applique une operation morphologique de fermeture à l'image dilatee La fermeture est une combinaison d'une dilatation suivie d'une érosion\n",
    "   #La fermeture est utilisée pour fermer les petits trous à l'intérieur des objets blancs et pour connecter des objets blancs distincts\n",
    "   \n",
    "   contours, h = cv2.findContours(\n",
    "       fermiture, cv2.RETR_TREE, cv2.CHAIN_APPROX_SIMPLE)\n",
    "   #trouver les contours dans l'image binaire résultante après l'opération morphologique de fermeture \n",
    "   \n",
    "   for(i, c) in enumerate(contours):\n",
    "    #parcourir les contours detecter par l'image\n",
    "       (x, y, w, h) = cv2.boundingRect(c)\n",
    "       #cette fonctin renvoie les coordonne du rectangle qui englobe le contour \n",
    "       contour_valid = (w >= largeur_min_contour) and (\n",
    "           h >= longeur_min_contour)\n",
    "       #on virifie la validite des contours par rapport aux condition qu'on a pose au debut\n",
    "    \n",
    "       if not contour_valid:\n",
    "           continue\n",
    "       cv2.rectangle(frame1, (x-10, y-10), (x+w+10, y+h+10), (0, 0, 255), 2)\n",
    "       #dessiner les rectangle des contour valides on utilison les coordone trouver \n",
    " \n",
    "       cv2.line(frame1, (0, ligne_hauteur), (1200, ligne_hauteur), (0, 255, 0), 2)\n",
    "       #pour dessiner la ligne\n",
    "       \n",
    "       centrolid = get_centrolid(x, y, w, h)\n",
    "       #calcule du centre qui englobe le rectangle\n",
    "       matches.append(centrolid)\n",
    "       #ajouter les valeurs a la liste matches\n",
    "       \n",
    "       cv2.circle(frame1, centrolid, 5, (0, 255, 0), -1)\n",
    "       #dessiner un cercle autour du centre\n",
    "       cx, cy = get_centrolid(x, y, w, h)\n",
    "       for (x, y) in matches:\n",
    "           if y < (ligne_hauteur+offset) and y > (ligne_hauteur-offset):\n",
    "               vehicles = vehicles +1\n",
    "               matches.remove((x, y))\n",
    "        #verifier si le centrolid a traverser la ligne et calculer le nombre de veicule pui supprime le centroide\n",
    "   \n",
    "   \n",
    "   cv2.putText(frame1, \"Nombre total detecter : \" + str(vehicles), (10, 90), cv2.FONT_HERSHEY_SIMPLEX, 1,\n",
    "               (0, 170, 0), 2)\n",
    "   #ecrirce le text sur la video\n",
    " \n",
    " \n",
    " \n",
    "   cv2.imshow(\"Voiture Detection\", frame1)\n",
    "   if cv2.waitKey(1) == 27:\n",
    "       break\n",
    "   frame1 = frame2\n",
    "   ret, frame2 = cap.read()\n",
    "   #voir la video a appuyer sur echap pour sortir de la video\n",
    "cv2.destroyAllWindows()\n",
    "cap.release()"
   ]
  },
  {
   "cell_type": "markdown",
   "id": "90a085c1",
   "metadata": {},
   "source": [
    "### On voit maintenant l'impact des  differents fonctions  "
   ]
  },
  {
   "cell_type": "code",
   "execution_count": 11,
   "id": "34bd8492",
   "metadata": {},
   "outputs": [],
   "source": [
    "cv2.imshow(\"utiliser la fonction absdiff entre 2 frame\", frame1)\n",
    "cv2.waitKey(0)\n",
    "cv2.destroyAllWindows()\n"
   ]
  },
  {
   "cell_type": "code",
   "execution_count": 12,
   "id": "b1866011",
   "metadata": {},
   "outputs": [],
   "source": [
    "cv2.imshow(\"utiliser la fonction absdiff entre 2 frame\", d)\n",
    "cv2.waitKey(0)\n",
    "cv2.destroyAllWindows()\n"
   ]
  },
  {
   "cell_type": "code",
   "execution_count": 13,
   "id": "ba61de2b",
   "metadata": {},
   "outputs": [],
   "source": [
    "cv2.imshow(\"rendre l'image noir est blanc\", gris)\n",
    "cv2.waitKey(0)\n",
    "cv2.destroyAllWindows()"
   ]
  },
  {
   "cell_type": "code",
   "execution_count": 14,
   "id": "1b4ff01f",
   "metadata": {},
   "outputs": [],
   "source": [
    "cv2.imshow(\"guassian filter\", blur)\n",
    "cv2.waitKey(0)\n",
    "cv2.destroyAllWindows()"
   ]
  },
  {
   "cell_type": "code",
   "execution_count": 15,
   "id": "f48cbf8f",
   "metadata": {},
   "outputs": [],
   "source": [
    "cv2.imshow(\"binarisation\", th)\n",
    "cv2.waitKey(0)\n",
    "cv2.destroyAllWindows()"
   ]
  },
  {
   "cell_type": "code",
   "execution_count": 16,
   "id": "ddad9aa6",
   "metadata": {},
   "outputs": [],
   "source": [
    "cv2.imshow(\"dilatation\", dilated)\n",
    "cv2.waitKey(0)\n",
    "cv2.destroyAllWindows()"
   ]
  },
  {
   "cell_type": "code",
   "execution_count": 17,
   "id": "027a5987",
   "metadata": {},
   "outputs": [],
   "source": [
    "cv2.imshow(\"combler les petit troux dans la ragion blanche\", fermiture)\n",
    "cv2.waitKey(0)\n",
    "cv2.destroyAllWindows()"
   ]
  },
  {
   "cell_type": "code",
   "execution_count": null,
   "id": "72cd7c04",
   "metadata": {},
   "outputs": [],
   "source": []
  }
 ],
 "metadata": {
  "kernelspec": {
   "display_name": "Python 3",
   "language": "python",
   "name": "python3"
  },
  "language_info": {
   "codemirror_mode": {
    "name": "ipython",
    "version": 3
   },
   "file_extension": ".py",
   "mimetype": "text/x-python",
   "name": "python",
   "nbconvert_exporter": "python",
   "pygments_lexer": "ipython3",
   "version": "3.11.2"
  }
 },
 "nbformat": 4,
 "nbformat_minor": 5
}
